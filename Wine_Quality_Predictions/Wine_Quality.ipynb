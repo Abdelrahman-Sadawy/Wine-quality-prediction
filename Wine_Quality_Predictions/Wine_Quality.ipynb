{
  "nbformat": 4,
  "nbformat_minor": 0,
  "metadata": {
    "colab": {
      "provenance": []
    },
    "kernelspec": {
      "name": "python3",
      "display_name": "Python 3"
    },
    "language_info": {
      "name": "python"
    },
    "accelerator": "GPU",
    "gpuClass": "standard"
  },
  "cells": [
    {
      "cell_type": "code",
      "source": [
        "import pandas as pd\n",
        "import numpy as np\n",
        "import tensorflow as tf\n",
        "import sklearn as sk\n",
        "import matplotlib.pyplot as plt\n",
        "from sklearn.model_selection import train_test_split\n",
        "from sklearn.metrics import classification_report, accuracy_score\n",
        "%matplotlib inline\n",
        "\n",
        "from keras.models import Sequential\n",
        "from keras.layers import Dense, Flatten, Activation, Conv2D, MaxPooling2D\n",
        "from keras.activations import linear, relu, sigmoid\n",
        "\n",
        "import warnings\n",
        "warnings.filterwarnings('ignore')"
      ],
      "metadata": {
        "id": "bB886v9ROtUr"
      },
      "execution_count": 324,
      "outputs": []
    },
    {
      "cell_type": "markdown",
      "source": [
        "## Dataset load"
      ],
      "metadata": {
        "id": "0rJ4eSIZnMVu"
      }
    },
    {
      "cell_type": "code",
      "source": [
        "df = pd.read_csv(\"/content/drive/MyDrive/WineQT.csv\")\n",
        "df = df.sample(frac=1).reset_index()\n",
        "df.head()"
      ],
      "metadata": {
        "colab": {
          "base_uri": "https://localhost:8080/",
          "height": 206
        },
        "id": "ul6EgzveQuc8",
        "outputId": "478505e0-6b5a-4ab7-88be-8e3fab14663d"
      },
      "execution_count": 325,
      "outputs": [
        {
          "output_type": "execute_result",
          "data": {
            "text/plain": [
              "   index  fixed acidity  volatile acidity  citric acid  residual sugar  \\\n",
              "0    510            8.4             0.560         0.04             2.0   \n",
              "1    654            8.6             0.220         0.36             1.9   \n",
              "2    843            7.0             0.745         0.12             1.8   \n",
              "3     60            7.7             0.490         0.26             1.9   \n",
              "4   1109            6.6             0.880         0.04             2.2   \n",
              "\n",
              "   chlorides  free sulfur dioxide  total sulfur dioxide  density    pH  \\\n",
              "0      0.082                 10.0                  22.0  0.99760  3.22   \n",
              "1      0.064                 53.0                  77.0  0.99604  3.47   \n",
              "2      0.114                 15.0                  64.0  0.99588  3.22   \n",
              "3      0.062                  9.0                  31.0  0.99660  3.39   \n",
              "4      0.066                 12.0                  20.0  0.99636  3.53   \n",
              "\n",
              "   sulphates  alcohol  quality    Id  \n",
              "0       0.44      9.6        5   718  \n",
              "1       0.87     11.0        7   925  \n",
              "2       0.59      9.5        6  1194  \n",
              "3       0.64      9.6        5    87  \n",
              "4       0.56      9.9        5  1556  "
            ],
            "text/html": [
              "\n",
              "  <div id=\"df-2ca2e6eb-26e8-46ca-8ea1-442763718806\">\n",
              "    <div class=\"colab-df-container\">\n",
              "      <div>\n",
              "<style scoped>\n",
              "    .dataframe tbody tr th:only-of-type {\n",
              "        vertical-align: middle;\n",
              "    }\n",
              "\n",
              "    .dataframe tbody tr th {\n",
              "        vertical-align: top;\n",
              "    }\n",
              "\n",
              "    .dataframe thead th {\n",
              "        text-align: right;\n",
              "    }\n",
              "</style>\n",
              "<table border=\"1\" class=\"dataframe\">\n",
              "  <thead>\n",
              "    <tr style=\"text-align: right;\">\n",
              "      <th></th>\n",
              "      <th>index</th>\n",
              "      <th>fixed acidity</th>\n",
              "      <th>volatile acidity</th>\n",
              "      <th>citric acid</th>\n",
              "      <th>residual sugar</th>\n",
              "      <th>chlorides</th>\n",
              "      <th>free sulfur dioxide</th>\n",
              "      <th>total sulfur dioxide</th>\n",
              "      <th>density</th>\n",
              "      <th>pH</th>\n",
              "      <th>sulphates</th>\n",
              "      <th>alcohol</th>\n",
              "      <th>quality</th>\n",
              "      <th>Id</th>\n",
              "    </tr>\n",
              "  </thead>\n",
              "  <tbody>\n",
              "    <tr>\n",
              "      <th>0</th>\n",
              "      <td>510</td>\n",
              "      <td>8.4</td>\n",
              "      <td>0.560</td>\n",
              "      <td>0.04</td>\n",
              "      <td>2.0</td>\n",
              "      <td>0.082</td>\n",
              "      <td>10.0</td>\n",
              "      <td>22.0</td>\n",
              "      <td>0.99760</td>\n",
              "      <td>3.22</td>\n",
              "      <td>0.44</td>\n",
              "      <td>9.6</td>\n",
              "      <td>5</td>\n",
              "      <td>718</td>\n",
              "    </tr>\n",
              "    <tr>\n",
              "      <th>1</th>\n",
              "      <td>654</td>\n",
              "      <td>8.6</td>\n",
              "      <td>0.220</td>\n",
              "      <td>0.36</td>\n",
              "      <td>1.9</td>\n",
              "      <td>0.064</td>\n",
              "      <td>53.0</td>\n",
              "      <td>77.0</td>\n",
              "      <td>0.99604</td>\n",
              "      <td>3.47</td>\n",
              "      <td>0.87</td>\n",
              "      <td>11.0</td>\n",
              "      <td>7</td>\n",
              "      <td>925</td>\n",
              "    </tr>\n",
              "    <tr>\n",
              "      <th>2</th>\n",
              "      <td>843</td>\n",
              "      <td>7.0</td>\n",
              "      <td>0.745</td>\n",
              "      <td>0.12</td>\n",
              "      <td>1.8</td>\n",
              "      <td>0.114</td>\n",
              "      <td>15.0</td>\n",
              "      <td>64.0</td>\n",
              "      <td>0.99588</td>\n",
              "      <td>3.22</td>\n",
              "      <td>0.59</td>\n",
              "      <td>9.5</td>\n",
              "      <td>6</td>\n",
              "      <td>1194</td>\n",
              "    </tr>\n",
              "    <tr>\n",
              "      <th>3</th>\n",
              "      <td>60</td>\n",
              "      <td>7.7</td>\n",
              "      <td>0.490</td>\n",
              "      <td>0.26</td>\n",
              "      <td>1.9</td>\n",
              "      <td>0.062</td>\n",
              "      <td>9.0</td>\n",
              "      <td>31.0</td>\n",
              "      <td>0.99660</td>\n",
              "      <td>3.39</td>\n",
              "      <td>0.64</td>\n",
              "      <td>9.6</td>\n",
              "      <td>5</td>\n",
              "      <td>87</td>\n",
              "    </tr>\n",
              "    <tr>\n",
              "      <th>4</th>\n",
              "      <td>1109</td>\n",
              "      <td>6.6</td>\n",
              "      <td>0.880</td>\n",
              "      <td>0.04</td>\n",
              "      <td>2.2</td>\n",
              "      <td>0.066</td>\n",
              "      <td>12.0</td>\n",
              "      <td>20.0</td>\n",
              "      <td>0.99636</td>\n",
              "      <td>3.53</td>\n",
              "      <td>0.56</td>\n",
              "      <td>9.9</td>\n",
              "      <td>5</td>\n",
              "      <td>1556</td>\n",
              "    </tr>\n",
              "  </tbody>\n",
              "</table>\n",
              "</div>\n",
              "      <button class=\"colab-df-convert\" onclick=\"convertToInteractive('df-2ca2e6eb-26e8-46ca-8ea1-442763718806')\"\n",
              "              title=\"Convert this dataframe to an interactive table.\"\n",
              "              style=\"display:none;\">\n",
              "        \n",
              "  <svg xmlns=\"http://www.w3.org/2000/svg\" height=\"24px\"viewBox=\"0 0 24 24\"\n",
              "       width=\"24px\">\n",
              "    <path d=\"M0 0h24v24H0V0z\" fill=\"none\"/>\n",
              "    <path d=\"M18.56 5.44l.94 2.06.94-2.06 2.06-.94-2.06-.94-.94-2.06-.94 2.06-2.06.94zm-11 1L8.5 8.5l.94-2.06 2.06-.94-2.06-.94L8.5 2.5l-.94 2.06-2.06.94zm10 10l.94 2.06.94-2.06 2.06-.94-2.06-.94-.94-2.06-.94 2.06-2.06.94z\"/><path d=\"M17.41 7.96l-1.37-1.37c-.4-.4-.92-.59-1.43-.59-.52 0-1.04.2-1.43.59L10.3 9.45l-7.72 7.72c-.78.78-.78 2.05 0 2.83L4 21.41c.39.39.9.59 1.41.59.51 0 1.02-.2 1.41-.59l7.78-7.78 2.81-2.81c.8-.78.8-2.07 0-2.86zM5.41 20L4 18.59l7.72-7.72 1.47 1.35L5.41 20z\"/>\n",
              "  </svg>\n",
              "      </button>\n",
              "      \n",
              "  <style>\n",
              "    .colab-df-container {\n",
              "      display:flex;\n",
              "      flex-wrap:wrap;\n",
              "      gap: 12px;\n",
              "    }\n",
              "\n",
              "    .colab-df-convert {\n",
              "      background-color: #E8F0FE;\n",
              "      border: none;\n",
              "      border-radius: 50%;\n",
              "      cursor: pointer;\n",
              "      display: none;\n",
              "      fill: #1967D2;\n",
              "      height: 32px;\n",
              "      padding: 0 0 0 0;\n",
              "      width: 32px;\n",
              "    }\n",
              "\n",
              "    .colab-df-convert:hover {\n",
              "      background-color: #E2EBFA;\n",
              "      box-shadow: 0px 1px 2px rgba(60, 64, 67, 0.3), 0px 1px 3px 1px rgba(60, 64, 67, 0.15);\n",
              "      fill: #174EA6;\n",
              "    }\n",
              "\n",
              "    [theme=dark] .colab-df-convert {\n",
              "      background-color: #3B4455;\n",
              "      fill: #D2E3FC;\n",
              "    }\n",
              "\n",
              "    [theme=dark] .colab-df-convert:hover {\n",
              "      background-color: #434B5C;\n",
              "      box-shadow: 0px 1px 3px 1px rgba(0, 0, 0, 0.15);\n",
              "      filter: drop-shadow(0px 1px 2px rgba(0, 0, 0, 0.3));\n",
              "      fill: #FFFFFF;\n",
              "    }\n",
              "  </style>\n",
              "\n",
              "      <script>\n",
              "        const buttonEl =\n",
              "          document.querySelector('#df-2ca2e6eb-26e8-46ca-8ea1-442763718806 button.colab-df-convert');\n",
              "        buttonEl.style.display =\n",
              "          google.colab.kernel.accessAllowed ? 'block' : 'none';\n",
              "\n",
              "        async function convertToInteractive(key) {\n",
              "          const element = document.querySelector('#df-2ca2e6eb-26e8-46ca-8ea1-442763718806');\n",
              "          const dataTable =\n",
              "            await google.colab.kernel.invokeFunction('convertToInteractive',\n",
              "                                                     [key], {});\n",
              "          if (!dataTable) return;\n",
              "\n",
              "          const docLinkHtml = 'Like what you see? Visit the ' +\n",
              "            '<a target=\"_blank\" href=https://colab.research.google.com/notebooks/data_table.ipynb>data table notebook</a>'\n",
              "            + ' to learn more about interactive tables.';\n",
              "          element.innerHTML = '';\n",
              "          dataTable['output_type'] = 'display_data';\n",
              "          await google.colab.output.renderOutput(dataTable, element);\n",
              "          const docLink = document.createElement('div');\n",
              "          docLink.innerHTML = docLinkHtml;\n",
              "          element.appendChild(docLink);\n",
              "        }\n",
              "      </script>\n",
              "    </div>\n",
              "  </div>\n",
              "  "
            ]
          },
          "metadata": {},
          "execution_count": 325
        }
      ]
    },
    {
      "cell_type": "code",
      "source": [
        "df.info()"
      ],
      "metadata": {
        "colab": {
          "base_uri": "https://localhost:8080/"
        },
        "id": "kT39uhsvSUbC",
        "outputId": "78a70cb5-ac50-44bd-ad10-49496ee63ae9"
      },
      "execution_count": 326,
      "outputs": [
        {
          "output_type": "stream",
          "name": "stdout",
          "text": [
            "<class 'pandas.core.frame.DataFrame'>\n",
            "RangeIndex: 1143 entries, 0 to 1142\n",
            "Data columns (total 14 columns):\n",
            " #   Column                Non-Null Count  Dtype  \n",
            "---  ------                --------------  -----  \n",
            " 0   index                 1143 non-null   int64  \n",
            " 1   fixed acidity         1143 non-null   float64\n",
            " 2   volatile acidity      1143 non-null   float64\n",
            " 3   citric acid           1143 non-null   float64\n",
            " 4   residual sugar        1143 non-null   float64\n",
            " 5   chlorides             1143 non-null   float64\n",
            " 6   free sulfur dioxide   1143 non-null   float64\n",
            " 7   total sulfur dioxide  1143 non-null   float64\n",
            " 8   density               1143 non-null   float64\n",
            " 9   pH                    1143 non-null   float64\n",
            " 10  sulphates             1143 non-null   float64\n",
            " 11  alcohol               1143 non-null   float64\n",
            " 12  quality               1143 non-null   int64  \n",
            " 13  Id                    1143 non-null   int64  \n",
            "dtypes: float64(11), int64(3)\n",
            "memory usage: 125.1 KB\n"
          ]
        }
      ]
    },
    {
      "cell_type": "markdown",
      "source": [
        "## Features correlation with quality to choose best 4 features"
      ],
      "metadata": {
        "id": "bWLTaSfUnRXD"
      }
    },
    {
      "cell_type": "code",
      "source": [
        "num_df = df.corrwith(df[\"quality\"]).apply(lambda x: np.absolute(x)).sort_values(ascending=False)\n",
        "print(num_df)"
      ],
      "metadata": {
        "colab": {
          "base_uri": "https://localhost:8080/"
        },
        "id": "3805kqKNSXx7",
        "outputId": "ea0b9e57-1375-4404-e94a-56f118f22282"
      },
      "execution_count": 327,
      "outputs": [
        {
          "output_type": "stream",
          "name": "stdout",
          "text": [
            "quality                 1.000000\n",
            "alcohol                 0.484866\n",
            "volatile acidity        0.407394\n",
            "sulphates               0.257710\n",
            "citric acid             0.240821\n",
            "total sulfur dioxide    0.183339\n",
            "density                 0.175208\n",
            "chlorides               0.124085\n",
            "fixed acidity           0.121970\n",
            "Id                      0.069708\n",
            "index                   0.067794\n",
            "free sulfur dioxide     0.063260\n",
            "pH                      0.052453\n",
            "residual sugar          0.022002\n",
            "dtype: float64\n"
          ]
        }
      ]
    },
    {
      "cell_type": "code",
      "source": [
        "X = df[['alcohol', 'volatile acidity', 'sulphates', 'citric acid']]\n",
        "y = df['quality']"
      ],
      "metadata": {
        "id": "tRuxCUFCSzHS"
      },
      "execution_count": 328,
      "outputs": []
    },
    {
      "cell_type": "code",
      "source": [
        "X.head()"
      ],
      "metadata": {
        "colab": {
          "base_uri": "https://localhost:8080/",
          "height": 206
        },
        "id": "_WTuc02-Tqs8",
        "outputId": "341ab5bf-d5ef-45b1-e73e-b84a8444e47c"
      },
      "execution_count": 329,
      "outputs": [
        {
          "output_type": "execute_result",
          "data": {
            "text/plain": [
              "   alcohol  volatile acidity  sulphates  citric acid\n",
              "0      9.6             0.560       0.44         0.04\n",
              "1     11.0             0.220       0.87         0.36\n",
              "2      9.5             0.745       0.59         0.12\n",
              "3      9.6             0.490       0.64         0.26\n",
              "4      9.9             0.880       0.56         0.04"
            ],
            "text/html": [
              "\n",
              "  <div id=\"df-410e847d-64d5-46ae-8a1a-d6ca5d6fb00d\">\n",
              "    <div class=\"colab-df-container\">\n",
              "      <div>\n",
              "<style scoped>\n",
              "    .dataframe tbody tr th:only-of-type {\n",
              "        vertical-align: middle;\n",
              "    }\n",
              "\n",
              "    .dataframe tbody tr th {\n",
              "        vertical-align: top;\n",
              "    }\n",
              "\n",
              "    .dataframe thead th {\n",
              "        text-align: right;\n",
              "    }\n",
              "</style>\n",
              "<table border=\"1\" class=\"dataframe\">\n",
              "  <thead>\n",
              "    <tr style=\"text-align: right;\">\n",
              "      <th></th>\n",
              "      <th>alcohol</th>\n",
              "      <th>volatile acidity</th>\n",
              "      <th>sulphates</th>\n",
              "      <th>citric acid</th>\n",
              "    </tr>\n",
              "  </thead>\n",
              "  <tbody>\n",
              "    <tr>\n",
              "      <th>0</th>\n",
              "      <td>9.6</td>\n",
              "      <td>0.560</td>\n",
              "      <td>0.44</td>\n",
              "      <td>0.04</td>\n",
              "    </tr>\n",
              "    <tr>\n",
              "      <th>1</th>\n",
              "      <td>11.0</td>\n",
              "      <td>0.220</td>\n",
              "      <td>0.87</td>\n",
              "      <td>0.36</td>\n",
              "    </tr>\n",
              "    <tr>\n",
              "      <th>2</th>\n",
              "      <td>9.5</td>\n",
              "      <td>0.745</td>\n",
              "      <td>0.59</td>\n",
              "      <td>0.12</td>\n",
              "    </tr>\n",
              "    <tr>\n",
              "      <th>3</th>\n",
              "      <td>9.6</td>\n",
              "      <td>0.490</td>\n",
              "      <td>0.64</td>\n",
              "      <td>0.26</td>\n",
              "    </tr>\n",
              "    <tr>\n",
              "      <th>4</th>\n",
              "      <td>9.9</td>\n",
              "      <td>0.880</td>\n",
              "      <td>0.56</td>\n",
              "      <td>0.04</td>\n",
              "    </tr>\n",
              "  </tbody>\n",
              "</table>\n",
              "</div>\n",
              "      <button class=\"colab-df-convert\" onclick=\"convertToInteractive('df-410e847d-64d5-46ae-8a1a-d6ca5d6fb00d')\"\n",
              "              title=\"Convert this dataframe to an interactive table.\"\n",
              "              style=\"display:none;\">\n",
              "        \n",
              "  <svg xmlns=\"http://www.w3.org/2000/svg\" height=\"24px\"viewBox=\"0 0 24 24\"\n",
              "       width=\"24px\">\n",
              "    <path d=\"M0 0h24v24H0V0z\" fill=\"none\"/>\n",
              "    <path d=\"M18.56 5.44l.94 2.06.94-2.06 2.06-.94-2.06-.94-.94-2.06-.94 2.06-2.06.94zm-11 1L8.5 8.5l.94-2.06 2.06-.94-2.06-.94L8.5 2.5l-.94 2.06-2.06.94zm10 10l.94 2.06.94-2.06 2.06-.94-2.06-.94-.94-2.06-.94 2.06-2.06.94z\"/><path d=\"M17.41 7.96l-1.37-1.37c-.4-.4-.92-.59-1.43-.59-.52 0-1.04.2-1.43.59L10.3 9.45l-7.72 7.72c-.78.78-.78 2.05 0 2.83L4 21.41c.39.39.9.59 1.41.59.51 0 1.02-.2 1.41-.59l7.78-7.78 2.81-2.81c.8-.78.8-2.07 0-2.86zM5.41 20L4 18.59l7.72-7.72 1.47 1.35L5.41 20z\"/>\n",
              "  </svg>\n",
              "      </button>\n",
              "      \n",
              "  <style>\n",
              "    .colab-df-container {\n",
              "      display:flex;\n",
              "      flex-wrap:wrap;\n",
              "      gap: 12px;\n",
              "    }\n",
              "\n",
              "    .colab-df-convert {\n",
              "      background-color: #E8F0FE;\n",
              "      border: none;\n",
              "      border-radius: 50%;\n",
              "      cursor: pointer;\n",
              "      display: none;\n",
              "      fill: #1967D2;\n",
              "      height: 32px;\n",
              "      padding: 0 0 0 0;\n",
              "      width: 32px;\n",
              "    }\n",
              "\n",
              "    .colab-df-convert:hover {\n",
              "      background-color: #E2EBFA;\n",
              "      box-shadow: 0px 1px 2px rgba(60, 64, 67, 0.3), 0px 1px 3px 1px rgba(60, 64, 67, 0.15);\n",
              "      fill: #174EA6;\n",
              "    }\n",
              "\n",
              "    [theme=dark] .colab-df-convert {\n",
              "      background-color: #3B4455;\n",
              "      fill: #D2E3FC;\n",
              "    }\n",
              "\n",
              "    [theme=dark] .colab-df-convert:hover {\n",
              "      background-color: #434B5C;\n",
              "      box-shadow: 0px 1px 3px 1px rgba(0, 0, 0, 0.15);\n",
              "      filter: drop-shadow(0px 1px 2px rgba(0, 0, 0, 0.3));\n",
              "      fill: #FFFFFF;\n",
              "    }\n",
              "  </style>\n",
              "\n",
              "      <script>\n",
              "        const buttonEl =\n",
              "          document.querySelector('#df-410e847d-64d5-46ae-8a1a-d6ca5d6fb00d button.colab-df-convert');\n",
              "        buttonEl.style.display =\n",
              "          google.colab.kernel.accessAllowed ? 'block' : 'none';\n",
              "\n",
              "        async function convertToInteractive(key) {\n",
              "          const element = document.querySelector('#df-410e847d-64d5-46ae-8a1a-d6ca5d6fb00d');\n",
              "          const dataTable =\n",
              "            await google.colab.kernel.invokeFunction('convertToInteractive',\n",
              "                                                     [key], {});\n",
              "          if (!dataTable) return;\n",
              "\n",
              "          const docLinkHtml = 'Like what you see? Visit the ' +\n",
              "            '<a target=\"_blank\" href=https://colab.research.google.com/notebooks/data_table.ipynb>data table notebook</a>'\n",
              "            + ' to learn more about interactive tables.';\n",
              "          element.innerHTML = '';\n",
              "          dataTable['output_type'] = 'display_data';\n",
              "          await google.colab.output.renderOutput(dataTable, element);\n",
              "          const docLink = document.createElement('div');\n",
              "          docLink.innerHTML = docLinkHtml;\n",
              "          element.appendChild(docLink);\n",
              "        }\n",
              "      </script>\n",
              "    </div>\n",
              "  </div>\n",
              "  "
            ]
          },
          "metadata": {},
          "execution_count": 329
        }
      ]
    },
    {
      "cell_type": "code",
      "source": [
        "y.head()"
      ],
      "metadata": {
        "colab": {
          "base_uri": "https://localhost:8080/"
        },
        "id": "fD6ZHK5ykr7J",
        "outputId": "899ef1d1-de39-43c3-94a8-98555c58f0ea"
      },
      "execution_count": 330,
      "outputs": [
        {
          "output_type": "execute_result",
          "data": {
            "text/plain": [
              "0    5\n",
              "1    7\n",
              "2    6\n",
              "3    5\n",
              "4    5\n",
              "Name: quality, dtype: int64"
            ]
          },
          "metadata": {},
          "execution_count": 330
        }
      ]
    },
    {
      "cell_type": "markdown",
      "source": [
        "## Function for normalization"
      ],
      "metadata": {
        "id": "F2R5Wd8LUl9l"
      }
    },
    {
      "cell_type": "code",
      "source": [
        "def normalize_features(normalize_x):\n",
        "    for column in normalize_x.columns:\n",
        "        normalize_x[column] = (normalize_x[column] - normalize_x[column].min()) / (\n",
        "                normalize_x[column].max() - normalize_x[column].min())\n",
        "    return normalize_x"
      ],
      "metadata": {
        "id": "cLDub4qiT2_Q"
      },
      "execution_count": 331,
      "outputs": []
    },
    {
      "cell_type": "markdown",
      "source": [
        "## Splitting the data"
      ],
      "metadata": {
        "id": "IQVrMXCKmbq-"
      }
    },
    {
      "cell_type": "code",
      "source": [
        "x_train, x_test, y_train, y_test = train_test_split(X, y, test_size=0.3, random_state=123)\n",
        "\n",
        "normalize_features(x_train)\n",
        "normalize_features(x_test)\n"
      ],
      "metadata": {
        "colab": {
          "base_uri": "https://localhost:8080/",
          "height": 423
        },
        "id": "uEoS9GNbU3KR",
        "outputId": "b20411ca-c46b-4e5a-dab5-9dbe99793a47"
      },
      "execution_count": 332,
      "outputs": [
        {
          "output_type": "execute_result",
          "data": {
            "text/plain": [
              "       alcohol  volatile acidity  sulphates  citric acid\n",
              "345   0.250000          0.600000   0.233533         0.00\n",
              "103   0.196429          0.278261   0.185629         0.46\n",
              "309   0.732143          0.078261   0.113772         0.49\n",
              "528   0.482143          0.373913   0.263473         0.08\n",
              "1088  0.178571          0.391304   0.143713         0.24\n",
              "...        ...               ...        ...          ...\n",
              "102   0.285714          0.452174   0.119760         0.00\n",
              "308   0.428571          0.226087   0.191617         0.47\n",
              "591   0.107143          0.295652   0.191617         0.25\n",
              "4     0.267857          0.608696   0.137725         0.04\n",
              "678   0.214286          0.243478   0.245509         0.31\n",
              "\n",
              "[343 rows x 4 columns]"
            ],
            "text/html": [
              "\n",
              "  <div id=\"df-5bbdf7d9-53ab-4a03-a156-09cd380f1ed4\">\n",
              "    <div class=\"colab-df-container\">\n",
              "      <div>\n",
              "<style scoped>\n",
              "    .dataframe tbody tr th:only-of-type {\n",
              "        vertical-align: middle;\n",
              "    }\n",
              "\n",
              "    .dataframe tbody tr th {\n",
              "        vertical-align: top;\n",
              "    }\n",
              "\n",
              "    .dataframe thead th {\n",
              "        text-align: right;\n",
              "    }\n",
              "</style>\n",
              "<table border=\"1\" class=\"dataframe\">\n",
              "  <thead>\n",
              "    <tr style=\"text-align: right;\">\n",
              "      <th></th>\n",
              "      <th>alcohol</th>\n",
              "      <th>volatile acidity</th>\n",
              "      <th>sulphates</th>\n",
              "      <th>citric acid</th>\n",
              "    </tr>\n",
              "  </thead>\n",
              "  <tbody>\n",
              "    <tr>\n",
              "      <th>345</th>\n",
              "      <td>0.250000</td>\n",
              "      <td>0.600000</td>\n",
              "      <td>0.233533</td>\n",
              "      <td>0.00</td>\n",
              "    </tr>\n",
              "    <tr>\n",
              "      <th>103</th>\n",
              "      <td>0.196429</td>\n",
              "      <td>0.278261</td>\n",
              "      <td>0.185629</td>\n",
              "      <td>0.46</td>\n",
              "    </tr>\n",
              "    <tr>\n",
              "      <th>309</th>\n",
              "      <td>0.732143</td>\n",
              "      <td>0.078261</td>\n",
              "      <td>0.113772</td>\n",
              "      <td>0.49</td>\n",
              "    </tr>\n",
              "    <tr>\n",
              "      <th>528</th>\n",
              "      <td>0.482143</td>\n",
              "      <td>0.373913</td>\n",
              "      <td>0.263473</td>\n",
              "      <td>0.08</td>\n",
              "    </tr>\n",
              "    <tr>\n",
              "      <th>1088</th>\n",
              "      <td>0.178571</td>\n",
              "      <td>0.391304</td>\n",
              "      <td>0.143713</td>\n",
              "      <td>0.24</td>\n",
              "    </tr>\n",
              "    <tr>\n",
              "      <th>...</th>\n",
              "      <td>...</td>\n",
              "      <td>...</td>\n",
              "      <td>...</td>\n",
              "      <td>...</td>\n",
              "    </tr>\n",
              "    <tr>\n",
              "      <th>102</th>\n",
              "      <td>0.285714</td>\n",
              "      <td>0.452174</td>\n",
              "      <td>0.119760</td>\n",
              "      <td>0.00</td>\n",
              "    </tr>\n",
              "    <tr>\n",
              "      <th>308</th>\n",
              "      <td>0.428571</td>\n",
              "      <td>0.226087</td>\n",
              "      <td>0.191617</td>\n",
              "      <td>0.47</td>\n",
              "    </tr>\n",
              "    <tr>\n",
              "      <th>591</th>\n",
              "      <td>0.107143</td>\n",
              "      <td>0.295652</td>\n",
              "      <td>0.191617</td>\n",
              "      <td>0.25</td>\n",
              "    </tr>\n",
              "    <tr>\n",
              "      <th>4</th>\n",
              "      <td>0.267857</td>\n",
              "      <td>0.608696</td>\n",
              "      <td>0.137725</td>\n",
              "      <td>0.04</td>\n",
              "    </tr>\n",
              "    <tr>\n",
              "      <th>678</th>\n",
              "      <td>0.214286</td>\n",
              "      <td>0.243478</td>\n",
              "      <td>0.245509</td>\n",
              "      <td>0.31</td>\n",
              "    </tr>\n",
              "  </tbody>\n",
              "</table>\n",
              "<p>343 rows × 4 columns</p>\n",
              "</div>\n",
              "      <button class=\"colab-df-convert\" onclick=\"convertToInteractive('df-5bbdf7d9-53ab-4a03-a156-09cd380f1ed4')\"\n",
              "              title=\"Convert this dataframe to an interactive table.\"\n",
              "              style=\"display:none;\">\n",
              "        \n",
              "  <svg xmlns=\"http://www.w3.org/2000/svg\" height=\"24px\"viewBox=\"0 0 24 24\"\n",
              "       width=\"24px\">\n",
              "    <path d=\"M0 0h24v24H0V0z\" fill=\"none\"/>\n",
              "    <path d=\"M18.56 5.44l.94 2.06.94-2.06 2.06-.94-2.06-.94-.94-2.06-.94 2.06-2.06.94zm-11 1L8.5 8.5l.94-2.06 2.06-.94-2.06-.94L8.5 2.5l-.94 2.06-2.06.94zm10 10l.94 2.06.94-2.06 2.06-.94-2.06-.94-.94-2.06-.94 2.06-2.06.94z\"/><path d=\"M17.41 7.96l-1.37-1.37c-.4-.4-.92-.59-1.43-.59-.52 0-1.04.2-1.43.59L10.3 9.45l-7.72 7.72c-.78.78-.78 2.05 0 2.83L4 21.41c.39.39.9.59 1.41.59.51 0 1.02-.2 1.41-.59l7.78-7.78 2.81-2.81c.8-.78.8-2.07 0-2.86zM5.41 20L4 18.59l7.72-7.72 1.47 1.35L5.41 20z\"/>\n",
              "  </svg>\n",
              "      </button>\n",
              "      \n",
              "  <style>\n",
              "    .colab-df-container {\n",
              "      display:flex;\n",
              "      flex-wrap:wrap;\n",
              "      gap: 12px;\n",
              "    }\n",
              "\n",
              "    .colab-df-convert {\n",
              "      background-color: #E8F0FE;\n",
              "      border: none;\n",
              "      border-radius: 50%;\n",
              "      cursor: pointer;\n",
              "      display: none;\n",
              "      fill: #1967D2;\n",
              "      height: 32px;\n",
              "      padding: 0 0 0 0;\n",
              "      width: 32px;\n",
              "    }\n",
              "\n",
              "    .colab-df-convert:hover {\n",
              "      background-color: #E2EBFA;\n",
              "      box-shadow: 0px 1px 2px rgba(60, 64, 67, 0.3), 0px 1px 3px 1px rgba(60, 64, 67, 0.15);\n",
              "      fill: #174EA6;\n",
              "    }\n",
              "\n",
              "    [theme=dark] .colab-df-convert {\n",
              "      background-color: #3B4455;\n",
              "      fill: #D2E3FC;\n",
              "    }\n",
              "\n",
              "    [theme=dark] .colab-df-convert:hover {\n",
              "      background-color: #434B5C;\n",
              "      box-shadow: 0px 1px 3px 1px rgba(0, 0, 0, 0.15);\n",
              "      filter: drop-shadow(0px 1px 2px rgba(0, 0, 0, 0.3));\n",
              "      fill: #FFFFFF;\n",
              "    }\n",
              "  </style>\n",
              "\n",
              "      <script>\n",
              "        const buttonEl =\n",
              "          document.querySelector('#df-5bbdf7d9-53ab-4a03-a156-09cd380f1ed4 button.colab-df-convert');\n",
              "        buttonEl.style.display =\n",
              "          google.colab.kernel.accessAllowed ? 'block' : 'none';\n",
              "\n",
              "        async function convertToInteractive(key) {\n",
              "          const element = document.querySelector('#df-5bbdf7d9-53ab-4a03-a156-09cd380f1ed4');\n",
              "          const dataTable =\n",
              "            await google.colab.kernel.invokeFunction('convertToInteractive',\n",
              "                                                     [key], {});\n",
              "          if (!dataTable) return;\n",
              "\n",
              "          const docLinkHtml = 'Like what you see? Visit the ' +\n",
              "            '<a target=\"_blank\" href=https://colab.research.google.com/notebooks/data_table.ipynb>data table notebook</a>'\n",
              "            + ' to learn more about interactive tables.';\n",
              "          element.innerHTML = '';\n",
              "          dataTable['output_type'] = 'display_data';\n",
              "          await google.colab.output.renderOutput(dataTable, element);\n",
              "          const docLink = document.createElement('div');\n",
              "          docLink.innerHTML = docLinkHtml;\n",
              "          element.appendChild(docLink);\n",
              "        }\n",
              "      </script>\n",
              "    </div>\n",
              "  </div>\n",
              "  "
            ]
          },
          "metadata": {},
          "execution_count": 332
        }
      ]
    },
    {
      "cell_type": "markdown",
      "source": [
        "## SVM Model"
      ],
      "metadata": {
        "id": "rNcIiF9kmj39"
      }
    },
    {
      "cell_type": "code",
      "source": [
        "from sklearn import svm\n",
        "\n",
        "svm_model = svm.SVC()\n",
        "svm_model.fit(x_train, y_train)\n",
        "\n",
        "predictions = svm_model.predict(x_test)\n",
        "\n",
        "print(classification_report(y_test, predictions))"
      ],
      "metadata": {
        "colab": {
          "base_uri": "https://localhost:8080/"
        },
        "id": "AJrzFw_YVJVZ",
        "outputId": "2490f6f9-8edf-4c85-98b5-95e55fe5485d"
      },
      "execution_count": 333,
      "outputs": [
        {
          "output_type": "stream",
          "name": "stdout",
          "text": [
            "              precision    recall  f1-score   support\n",
            "\n",
            "           3       0.00      0.00      0.00         1\n",
            "           4       0.00      0.00      0.00         8\n",
            "           5       0.77      0.61      0.68       157\n",
            "           6       0.50      0.73      0.59       128\n",
            "           7       0.48      0.34      0.40        41\n",
            "           8       0.00      0.00      0.00         8\n",
            "\n",
            "    accuracy                           0.59       343\n",
            "   macro avg       0.29      0.28      0.28       343\n",
            "weighted avg       0.59      0.59      0.58       343\n",
            "\n"
          ]
        }
      ]
    },
    {
      "cell_type": "markdown",
      "source": [
        "## Random Forest Model"
      ],
      "metadata": {
        "id": "73uu-Ufimox7"
      }
    },
    {
      "cell_type": "code",
      "source": [
        "from sklearn.ensemble import RandomForestClassifier\n",
        "\n",
        "rf_model = RandomForestClassifier()\n",
        "rf_model.fit(x_train, y_train.ravel())\n",
        "\n",
        "predictions = rf_model.predict(x_test)\n",
        "\n",
        "print(classification_report(y_test, predictions))"
      ],
      "metadata": {
        "colab": {
          "base_uri": "https://localhost:8080/"
        },
        "id": "mRuO7tv8ZXqR",
        "outputId": "c88befda-0ce7-4c75-b3e7-4aed43eec97d"
      },
      "execution_count": 334,
      "outputs": [
        {
          "output_type": "stream",
          "name": "stdout",
          "text": [
            "              precision    recall  f1-score   support\n",
            "\n",
            "           3       0.00      0.00      0.00         1\n",
            "           4       0.25      0.12      0.17         8\n",
            "           5       0.72      0.50      0.59       157\n",
            "           6       0.46      0.68      0.55       128\n",
            "           7       0.43      0.44      0.43        41\n",
            "           8       0.00      0.00      0.00         8\n",
            "\n",
            "    accuracy                           0.54       343\n",
            "   macro avg       0.31      0.29      0.29       343\n",
            "weighted avg       0.56      0.54      0.53       343\n",
            "\n"
          ]
        }
      ]
    },
    {
      "cell_type": "markdown",
      "source": [
        "## ANN Model"
      ],
      "metadata": {
        "id": "Xb43WsaHmsyL"
      }
    },
    {
      "cell_type": "code",
      "source": [
        "model = Sequential(\n",
        "    [\n",
        "        Flatten(),\n",
        "        Dense(256, activation = \"linear\"),\n",
        "        Dense(128, activation = \"linear\"),\n",
        "        Dense(64, activation = \"linear\"),\n",
        "        Dense(10, activation = \"sigmoid\")\n",
        "    ]\n",
        ")\n",
        "\n",
        "model.compile(\n",
        "    optimizer = \"adam\",\n",
        "    loss = \"sparse_categorical_crossentropy\",\n",
        "    metrics=['accuracy']\n",
        ")\n",
        "\n",
        "\n",
        "model.fit(x_train, y_train.ravel(), epochs=15)\n"
      ],
      "metadata": {
        "colab": {
          "base_uri": "https://localhost:8080/"
        },
        "id": "9IKVGGRAeMW-",
        "outputId": "77921542-4eff-4965-9d03-ef397b019b39"
      },
      "execution_count": 335,
      "outputs": [
        {
          "output_type": "stream",
          "name": "stdout",
          "text": [
            "Epoch 1/15\n",
            "25/25 [==============================] - 1s 3ms/step - loss: 1.5019 - accuracy: 0.4750\n",
            "Epoch 2/15\n",
            "25/25 [==============================] - 0s 4ms/step - loss: 1.0910 - accuracy: 0.5650\n",
            "Epoch 3/15\n",
            "25/25 [==============================] - 0s 3ms/step - loss: 1.0198 - accuracy: 0.5688\n",
            "Epoch 4/15\n",
            "25/25 [==============================] - 0s 4ms/step - loss: 1.0133 - accuracy: 0.6037\n",
            "Epoch 5/15\n",
            "25/25 [==============================] - 0s 4ms/step - loss: 1.0043 - accuracy: 0.5825\n",
            "Epoch 6/15\n",
            "25/25 [==============================] - 0s 4ms/step - loss: 1.0431 - accuracy: 0.5713\n",
            "Epoch 7/15\n",
            "25/25 [==============================] - 0s 4ms/step - loss: 1.0040 - accuracy: 0.5725\n",
            "Epoch 8/15\n",
            "25/25 [==============================] - 0s 4ms/step - loss: 1.0085 - accuracy: 0.5675\n",
            "Epoch 9/15\n",
            "25/25 [==============================] - 0s 3ms/step - loss: 0.9966 - accuracy: 0.5800\n",
            "Epoch 10/15\n",
            "25/25 [==============================] - 0s 4ms/step - loss: 0.9892 - accuracy: 0.5700\n",
            "Epoch 11/15\n",
            "25/25 [==============================] - 0s 4ms/step - loss: 0.9792 - accuracy: 0.5900\n",
            "Epoch 12/15\n",
            "25/25 [==============================] - 0s 4ms/step - loss: 0.9722 - accuracy: 0.5738\n",
            "Epoch 13/15\n",
            "25/25 [==============================] - 0s 4ms/step - loss: 0.9895 - accuracy: 0.5763\n",
            "Epoch 14/15\n",
            "25/25 [==============================] - 0s 4ms/step - loss: 0.9825 - accuracy: 0.5763\n",
            "Epoch 15/15\n",
            "25/25 [==============================] - 0s 4ms/step - loss: 0.9798 - accuracy: 0.5650\n"
          ]
        },
        {
          "output_type": "execute_result",
          "data": {
            "text/plain": [
              "<keras.callbacks.History at 0x7f0a0a2dc550>"
            ]
          },
          "metadata": {},
          "execution_count": 335
        }
      ]
    },
    {
      "cell_type": "code",
      "source": [
        "predictions = model.predict(x_test)\n",
        "\n",
        "y_pred_labels = [np.argmax(i) for i in predictions]\n",
        "\n",
        "print(classification_report(y_test, y_pred_labels))"
      ],
      "metadata": {
        "colab": {
          "base_uri": "https://localhost:8080/"
        },
        "id": "3cZs0shBhNuk",
        "outputId": "4ab06f09-86a5-4ddd-a51d-f9117f2ac152"
      },
      "execution_count": 336,
      "outputs": [
        {
          "output_type": "stream",
          "name": "stdout",
          "text": [
            "11/11 [==============================] - 0s 3ms/step\n",
            "              precision    recall  f1-score   support\n",
            "\n",
            "           3       0.00      0.00      0.00         1\n",
            "           4       0.00      0.00      0.00         8\n",
            "           5       0.78      0.48      0.60       157\n",
            "           6       0.47      0.72      0.57       128\n",
            "           7       0.44      0.54      0.48        41\n",
            "           8       0.00      0.00      0.00         8\n",
            "\n",
            "    accuracy                           0.55       343\n",
            "   macro avg       0.28      0.29      0.27       343\n",
            "weighted avg       0.58      0.55      0.54       343\n",
            "\n"
          ]
        }
      ]
    }
  ]
}